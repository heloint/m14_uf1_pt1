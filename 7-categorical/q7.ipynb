{
 "cells": [
  {
   "cell_type": "markdown",
   "metadata": {},
   "source": [
    "# Pregunta 7. Consulta datos agrupados por un campo categórico."
   ]
  },
  {
   "cell_type": "markdown",
   "metadata": {},
   "source": [
    "Mostrar:\n",
    "- Agrupar por campo categorico sino crearlo\n",
    "- Grafico de todas las categorias"
   ]
  },
  {
   "cell_type": "markdown",
   "metadata": {},
   "source": [
    "### IMPORTS\n",
    "---"
   ]
  },
  {
   "cell_type": "code",
   "execution_count": 315,
   "metadata": {},
   "outputs": [],
   "source": [
    "import pandas as pd\n",
    "import numpy as np\n",
    "import copy"
   ]
  },
  {
   "cell_type": "markdown",
   "metadata": {},
   "source": [
    "### RAW DATAFRAME\n",
    "---"
   ]
  },
  {
   "cell_type": "code",
   "execution_count": 316,
   "metadata": {},
   "outputs": [
    {
     "data": {
      "text/html": [
       "<div>\n",
       "<style scoped>\n",
       "    .dataframe tbody tr th:only-of-type {\n",
       "        vertical-align: middle;\n",
       "    }\n",
       "\n",
       "    .dataframe tbody tr th {\n",
       "        vertical-align: top;\n",
       "    }\n",
       "\n",
       "    .dataframe thead th {\n",
       "        text-align: right;\n",
       "    }\n",
       "</style>\n",
       "<table border=\"1\" class=\"dataframe\">\n",
       "  <thead>\n",
       "    <tr style=\"text-align: right;\">\n",
       "      <th></th>\n",
       "      <th>year</th>\n",
       "      <th>month</th>\n",
       "      <th>state</th>\n",
       "      <th>location</th>\n",
       "      <th>species</th>\n",
       "      <th>status</th>\n",
       "      <th>illnesses</th>\n",
       "      <th>hospitalizations</th>\n",
       "      <th>fatalities</th>\n",
       "    </tr>\n",
       "    <tr>\n",
       "      <th>case_id</th>\n",
       "      <th></th>\n",
       "      <th></th>\n",
       "      <th></th>\n",
       "      <th></th>\n",
       "      <th></th>\n",
       "      <th></th>\n",
       "      <th></th>\n",
       "      <th></th>\n",
       "      <th></th>\n",
       "    </tr>\n",
       "  </thead>\n",
       "  <tbody>\n",
       "    <tr>\n",
       "      <th>1</th>\n",
       "      <td>1998</td>\n",
       "      <td>January</td>\n",
       "      <td>California</td>\n",
       "      <td>Restaurant</td>\n",
       "      <td>NaN</td>\n",
       "      <td>NaN</td>\n",
       "      <td>20</td>\n",
       "      <td>0.0</td>\n",
       "      <td>0.0</td>\n",
       "    </tr>\n",
       "    <tr>\n",
       "      <th>2</th>\n",
       "      <td>1998</td>\n",
       "      <td>January</td>\n",
       "      <td>California</td>\n",
       "      <td>NaN</td>\n",
       "      <td>NaN</td>\n",
       "      <td>NaN</td>\n",
       "      <td>112</td>\n",
       "      <td>0.0</td>\n",
       "      <td>0.0</td>\n",
       "    </tr>\n",
       "    <tr>\n",
       "      <th>3</th>\n",
       "      <td>1998</td>\n",
       "      <td>January</td>\n",
       "      <td>California</td>\n",
       "      <td>Restaurant</td>\n",
       "      <td>NaN</td>\n",
       "      <td>NaN</td>\n",
       "      <td>35</td>\n",
       "      <td>0.0</td>\n",
       "      <td>0.0</td>\n",
       "    </tr>\n",
       "    <tr>\n",
       "      <th>4</th>\n",
       "      <td>1998</td>\n",
       "      <td>January</td>\n",
       "      <td>California</td>\n",
       "      <td>Restaurant</td>\n",
       "      <td>Scombroid toxin</td>\n",
       "      <td>Confirmed</td>\n",
       "      <td>4</td>\n",
       "      <td>0.0</td>\n",
       "      <td>0.0</td>\n",
       "    </tr>\n",
       "    <tr>\n",
       "      <th>5</th>\n",
       "      <td>1998</td>\n",
       "      <td>January</td>\n",
       "      <td>California</td>\n",
       "      <td>Private Home/Residence</td>\n",
       "      <td>Salmonella enterica</td>\n",
       "      <td>Confirmed</td>\n",
       "      <td>26</td>\n",
       "      <td>3.0</td>\n",
       "      <td>0.0</td>\n",
       "    </tr>\n",
       "    <tr>\n",
       "      <th>6</th>\n",
       "      <td>1998</td>\n",
       "      <td>January</td>\n",
       "      <td>California</td>\n",
       "      <td>Restaurant</td>\n",
       "      <td>Shigella boydii</td>\n",
       "      <td>Confirmed</td>\n",
       "      <td>25</td>\n",
       "      <td>3.0</td>\n",
       "      <td>0.0</td>\n",
       "    </tr>\n",
       "    <tr>\n",
       "      <th>7</th>\n",
       "      <td>1998</td>\n",
       "      <td>January</td>\n",
       "      <td>California</td>\n",
       "      <td>Restaurant</td>\n",
       "      <td>NaN</td>\n",
       "      <td>NaN</td>\n",
       "      <td>8</td>\n",
       "      <td>0.0</td>\n",
       "      <td>0.0</td>\n",
       "    </tr>\n",
       "    <tr>\n",
       "      <th>8</th>\n",
       "      <td>1998</td>\n",
       "      <td>January</td>\n",
       "      <td>California</td>\n",
       "      <td>Restaurant</td>\n",
       "      <td>Salmonella enterica</td>\n",
       "      <td>Confirmed</td>\n",
       "      <td>4</td>\n",
       "      <td>3.0</td>\n",
       "      <td>0.0</td>\n",
       "    </tr>\n",
       "    <tr>\n",
       "      <th>9</th>\n",
       "      <td>1998</td>\n",
       "      <td>January</td>\n",
       "      <td>Colorado</td>\n",
       "      <td>Restaurant</td>\n",
       "      <td>Virus</td>\n",
       "      <td>Suspected</td>\n",
       "      <td>21</td>\n",
       "      <td>NaN</td>\n",
       "      <td>NaN</td>\n",
       "    </tr>\n",
       "    <tr>\n",
       "      <th>10</th>\n",
       "      <td>1998</td>\n",
       "      <td>January</td>\n",
       "      <td>Colorado</td>\n",
       "      <td>Restaurant</td>\n",
       "      <td>Virus</td>\n",
       "      <td>Suspected</td>\n",
       "      <td>3</td>\n",
       "      <td>NaN</td>\n",
       "      <td>0.0</td>\n",
       "    </tr>\n",
       "  </tbody>\n",
       "</table>\n",
       "</div>"
      ],
      "text/plain": [
       "         year    month       state                location  \\\n",
       "case_id                                                      \n",
       "1        1998  January  California              Restaurant   \n",
       "2        1998  January  California                     NaN   \n",
       "3        1998  January  California              Restaurant   \n",
       "4        1998  January  California              Restaurant   \n",
       "5        1998  January  California  Private Home/Residence   \n",
       "6        1998  January  California              Restaurant   \n",
       "7        1998  January  California              Restaurant   \n",
       "8        1998  January  California              Restaurant   \n",
       "9        1998  January    Colorado              Restaurant   \n",
       "10       1998  January    Colorado              Restaurant   \n",
       "\n",
       "                     species     status  illnesses  hospitalizations  \\\n",
       "case_id                                                                \n",
       "1                        NaN        NaN         20               0.0   \n",
       "2                        NaN        NaN        112               0.0   \n",
       "3                        NaN        NaN         35               0.0   \n",
       "4            Scombroid toxin  Confirmed          4               0.0   \n",
       "5        Salmonella enterica  Confirmed         26               3.0   \n",
       "6            Shigella boydii  Confirmed         25               3.0   \n",
       "7                        NaN        NaN          8               0.0   \n",
       "8        Salmonella enterica  Confirmed          4               3.0   \n",
       "9                      Virus  Suspected         21               NaN   \n",
       "10                     Virus  Suspected          3               NaN   \n",
       "\n",
       "         fatalities  \n",
       "case_id              \n",
       "1               0.0  \n",
       "2               0.0  \n",
       "3               0.0  \n",
       "4               0.0  \n",
       "5               0.0  \n",
       "6               0.0  \n",
       "7               0.0  \n",
       "8               0.0  \n",
       "9               NaN  \n",
       "10              0.0  "
      ]
     },
     "execution_count": 316,
     "metadata": {},
     "output_type": "execute_result"
    }
   ],
   "source": [
    "data: pd.DataFrame = pd.read_csv(\"../data/cleaned_csv/3-question_results/cases.csv\", index_col=\"case_id\")\n",
    "data.head(10)"
   ]
  },
  {
   "cell_type": "markdown",
   "metadata": {},
   "source": [
    "### CATEGORICAL\n",
    "---\n",
    "\n",
    "- Columna categorica 'status'\n",
    "- Valores Confirmado / Sospechoso"
   ]
  },
  {
   "cell_type": "markdown",
   "metadata": {},
   "source": [
    "> Tabla de frecuencia de estado pacientes"
   ]
  },
  {
   "cell_type": "code",
   "execution_count": 317,
   "metadata": {},
   "outputs": [
    {
     "data": {
      "text/plain": [
       "Confirmed    7339\n",
       "Suspected    3836\n",
       "Name: status, dtype: int64"
      ]
     },
     "execution_count": 317,
     "metadata": {},
     "output_type": "execute_result"
    }
   ],
   "source": [
    "pd.value_counts(data['status'])"
   ]
  },
  {
   "cell_type": "markdown",
   "metadata": {},
   "source": [
    "> Tabla de contingencia estado paciente/estado"
   ]
  },
  {
   "cell_type": "code",
   "execution_count": 318,
   "metadata": {},
   "outputs": [
    {
     "data": {
      "text/html": [
       "<div>\n",
       "<style scoped>\n",
       "    .dataframe tbody tr th:only-of-type {\n",
       "        vertical-align: middle;\n",
       "    }\n",
       "\n",
       "    .dataframe tbody tr th {\n",
       "        vertical-align: top;\n",
       "    }\n",
       "\n",
       "    .dataframe thead th {\n",
       "        text-align: right;\n",
       "    }\n",
       "</style>\n",
       "<table border=\"1\" class=\"dataframe\">\n",
       "  <thead>\n",
       "    <tr style=\"text-align: right;\">\n",
       "      <th>state</th>\n",
       "      <th>Alabama</th>\n",
       "      <th>Alaska</th>\n",
       "      <th>Arizona</th>\n",
       "      <th>Arkansas</th>\n",
       "      <th>California</th>\n",
       "      <th>Colorado</th>\n",
       "      <th>Connecticut</th>\n",
       "      <th>Delaware</th>\n",
       "      <th>Florida</th>\n",
       "      <th>Georgia</th>\n",
       "      <th>...</th>\n",
       "      <th>Texas</th>\n",
       "      <th>Utah</th>\n",
       "      <th>Vermont</th>\n",
       "      <th>Virginia</th>\n",
       "      <th>Washington</th>\n",
       "      <th>Washington DC</th>\n",
       "      <th>West Virginia</th>\n",
       "      <th>Wisconsin</th>\n",
       "      <th>Wyoming</th>\n",
       "      <th>All</th>\n",
       "    </tr>\n",
       "    <tr>\n",
       "      <th>status</th>\n",
       "      <th></th>\n",
       "      <th></th>\n",
       "      <th></th>\n",
       "      <th></th>\n",
       "      <th></th>\n",
       "      <th></th>\n",
       "      <th></th>\n",
       "      <th></th>\n",
       "      <th></th>\n",
       "      <th></th>\n",
       "      <th></th>\n",
       "      <th></th>\n",
       "      <th></th>\n",
       "      <th></th>\n",
       "      <th></th>\n",
       "      <th></th>\n",
       "      <th></th>\n",
       "      <th></th>\n",
       "      <th></th>\n",
       "      <th></th>\n",
       "      <th></th>\n",
       "    </tr>\n",
       "  </thead>\n",
       "  <tbody>\n",
       "    <tr>\n",
       "      <th>Confirmed</th>\n",
       "      <td>29</td>\n",
       "      <td>56</td>\n",
       "      <td>126</td>\n",
       "      <td>23</td>\n",
       "      <td>619</td>\n",
       "      <td>183</td>\n",
       "      <td>171</td>\n",
       "      <td>5</td>\n",
       "      <td>395</td>\n",
       "      <td>181</td>\n",
       "      <td>...</td>\n",
       "      <td>114</td>\n",
       "      <td>57</td>\n",
       "      <td>23</td>\n",
       "      <td>157</td>\n",
       "      <td>207</td>\n",
       "      <td>13</td>\n",
       "      <td>22</td>\n",
       "      <td>332</td>\n",
       "      <td>38</td>\n",
       "      <td>7339</td>\n",
       "    </tr>\n",
       "    <tr>\n",
       "      <th>Suspected</th>\n",
       "      <td>5</td>\n",
       "      <td>12</td>\n",
       "      <td>46</td>\n",
       "      <td>13</td>\n",
       "      <td>831</td>\n",
       "      <td>163</td>\n",
       "      <td>25</td>\n",
       "      <td>1</td>\n",
       "      <td>799</td>\n",
       "      <td>72</td>\n",
       "      <td>...</td>\n",
       "      <td>27</td>\n",
       "      <td>13</td>\n",
       "      <td>0</td>\n",
       "      <td>34</td>\n",
       "      <td>313</td>\n",
       "      <td>8</td>\n",
       "      <td>3</td>\n",
       "      <td>29</td>\n",
       "      <td>4</td>\n",
       "      <td>3836</td>\n",
       "    </tr>\n",
       "    <tr>\n",
       "      <th>All</th>\n",
       "      <td>34</td>\n",
       "      <td>68</td>\n",
       "      <td>172</td>\n",
       "      <td>36</td>\n",
       "      <td>1450</td>\n",
       "      <td>346</td>\n",
       "      <td>196</td>\n",
       "      <td>6</td>\n",
       "      <td>1194</td>\n",
       "      <td>253</td>\n",
       "      <td>...</td>\n",
       "      <td>141</td>\n",
       "      <td>70</td>\n",
       "      <td>23</td>\n",
       "      <td>191</td>\n",
       "      <td>520</td>\n",
       "      <td>21</td>\n",
       "      <td>25</td>\n",
       "      <td>361</td>\n",
       "      <td>42</td>\n",
       "      <td>11175</td>\n",
       "    </tr>\n",
       "  </tbody>\n",
       "</table>\n",
       "<p>3 rows × 56 columns</p>\n",
       "</div>"
      ],
      "text/plain": [
       "state      Alabama  Alaska  Arizona  Arkansas  California  Colorado  \\\n",
       "status                                                                \n",
       "Confirmed       29      56      126        23         619       183   \n",
       "Suspected        5      12       46        13         831       163   \n",
       "All             34      68      172        36        1450       346   \n",
       "\n",
       "state      Connecticut  Delaware  Florida  Georgia  ...  Texas  Utah  Vermont  \\\n",
       "status                                              ...                         \n",
       "Confirmed          171         5      395      181  ...    114    57       23   \n",
       "Suspected           25         1      799       72  ...     27    13        0   \n",
       "All                196         6     1194      253  ...    141    70       23   \n",
       "\n",
       "state      Virginia  Washington  Washington DC  West Virginia  Wisconsin  \\\n",
       "status                                                                     \n",
       "Confirmed       157         207             13             22        332   \n",
       "Suspected        34         313              8              3         29   \n",
       "All             191         520             21             25        361   \n",
       "\n",
       "state      Wyoming    All  \n",
       "status                     \n",
       "Confirmed       38   7339  \n",
       "Suspected        4   3836  \n",
       "All             42  11175  \n",
       "\n",
       "[3 rows x 56 columns]"
      ]
     },
     "execution_count": 318,
     "metadata": {},
     "output_type": "execute_result"
    }
   ],
   "source": [
    "pd.crosstab(index=data['status'],\n",
    "            columns=data['state'], margins=True)"
   ]
  },
  {
   "cell_type": "markdown",
   "metadata": {},
   "source": [
    "> Tabla de contingencia  porcentajes relativos segun estado"
   ]
  },
  {
   "cell_type": "code",
   "execution_count": 319,
   "metadata": {},
   "outputs": [
    {
     "data": {
      "text/html": [
       "<div>\n",
       "<style scoped>\n",
       "    .dataframe tbody tr th:only-of-type {\n",
       "        vertical-align: middle;\n",
       "    }\n",
       "\n",
       "    .dataframe tbody tr th {\n",
       "        vertical-align: top;\n",
       "    }\n",
       "\n",
       "    .dataframe thead th {\n",
       "        text-align: right;\n",
       "    }\n",
       "</style>\n",
       "<table border=\"1\" class=\"dataframe\">\n",
       "  <thead>\n",
       "    <tr style=\"text-align: right;\">\n",
       "      <th>state</th>\n",
       "      <th>Alabama</th>\n",
       "      <th>Alaska</th>\n",
       "      <th>Arizona</th>\n",
       "      <th>Arkansas</th>\n",
       "      <th>California</th>\n",
       "      <th>Colorado</th>\n",
       "      <th>Connecticut</th>\n",
       "      <th>Delaware</th>\n",
       "      <th>Florida</th>\n",
       "      <th>Georgia</th>\n",
       "      <th>...</th>\n",
       "      <th>Tennessee</th>\n",
       "      <th>Texas</th>\n",
       "      <th>Utah</th>\n",
       "      <th>Vermont</th>\n",
       "      <th>Virginia</th>\n",
       "      <th>Washington</th>\n",
       "      <th>Washington DC</th>\n",
       "      <th>West Virginia</th>\n",
       "      <th>Wisconsin</th>\n",
       "      <th>Wyoming</th>\n",
       "    </tr>\n",
       "    <tr>\n",
       "      <th>status</th>\n",
       "      <th></th>\n",
       "      <th></th>\n",
       "      <th></th>\n",
       "      <th></th>\n",
       "      <th></th>\n",
       "      <th></th>\n",
       "      <th></th>\n",
       "      <th></th>\n",
       "      <th></th>\n",
       "      <th></th>\n",
       "      <th></th>\n",
       "      <th></th>\n",
       "      <th></th>\n",
       "      <th></th>\n",
       "      <th></th>\n",
       "      <th></th>\n",
       "      <th></th>\n",
       "      <th></th>\n",
       "      <th></th>\n",
       "      <th></th>\n",
       "      <th></th>\n",
       "    </tr>\n",
       "  </thead>\n",
       "  <tbody>\n",
       "    <tr>\n",
       "      <th>Confirmed</th>\n",
       "      <td>85.294118</td>\n",
       "      <td>82.352941</td>\n",
       "      <td>73.255814</td>\n",
       "      <td>63.888889</td>\n",
       "      <td>42.689655</td>\n",
       "      <td>52.890173</td>\n",
       "      <td>87.244898</td>\n",
       "      <td>83.333333</td>\n",
       "      <td>33.082077</td>\n",
       "      <td>71.541502</td>\n",
       "      <td>...</td>\n",
       "      <td>81.428571</td>\n",
       "      <td>80.851064</td>\n",
       "      <td>81.428571</td>\n",
       "      <td>100.0</td>\n",
       "      <td>82.198953</td>\n",
       "      <td>39.807692</td>\n",
       "      <td>61.904762</td>\n",
       "      <td>88.0</td>\n",
       "      <td>91.966759</td>\n",
       "      <td>90.47619</td>\n",
       "    </tr>\n",
       "    <tr>\n",
       "      <th>Suspected</th>\n",
       "      <td>14.705882</td>\n",
       "      <td>17.647059</td>\n",
       "      <td>26.744186</td>\n",
       "      <td>36.111111</td>\n",
       "      <td>57.310345</td>\n",
       "      <td>47.109827</td>\n",
       "      <td>12.755102</td>\n",
       "      <td>16.666667</td>\n",
       "      <td>66.917923</td>\n",
       "      <td>28.458498</td>\n",
       "      <td>...</td>\n",
       "      <td>18.571429</td>\n",
       "      <td>19.148936</td>\n",
       "      <td>18.571429</td>\n",
       "      <td>0.0</td>\n",
       "      <td>17.801047</td>\n",
       "      <td>60.192308</td>\n",
       "      <td>38.095238</td>\n",
       "      <td>12.0</td>\n",
       "      <td>8.033241</td>\n",
       "      <td>9.52381</td>\n",
       "    </tr>\n",
       "  </tbody>\n",
       "</table>\n",
       "<p>2 rows × 55 columns</p>\n",
       "</div>"
      ],
      "text/plain": [
       "state        Alabama     Alaska    Arizona   Arkansas  California   Colorado  \\\n",
       "status                                                                         \n",
       "Confirmed  85.294118  82.352941  73.255814  63.888889   42.689655  52.890173   \n",
       "Suspected  14.705882  17.647059  26.744186  36.111111   57.310345  47.109827   \n",
       "\n",
       "state      Connecticut   Delaware    Florida    Georgia  ...  Tennessee  \\\n",
       "status                                                   ...              \n",
       "Confirmed    87.244898  83.333333  33.082077  71.541502  ...  81.428571   \n",
       "Suspected    12.755102  16.666667  66.917923  28.458498  ...  18.571429   \n",
       "\n",
       "state          Texas       Utah  Vermont   Virginia  Washington  \\\n",
       "status                                                            \n",
       "Confirmed  80.851064  81.428571    100.0  82.198953   39.807692   \n",
       "Suspected  19.148936  18.571429      0.0  17.801047   60.192308   \n",
       "\n",
       "state      Washington DC  West Virginia  Wisconsin   Wyoming  \n",
       "status                                                        \n",
       "Confirmed      61.904762           88.0  91.966759  90.47619  \n",
       "Suspected      38.095238           12.0   8.033241   9.52381  \n",
       "\n",
       "[2 rows x 55 columns]"
      ]
     },
     "execution_count": 319,
     "metadata": {},
     "output_type": "execute_result"
    }
   ],
   "source": [
    "pd.crosstab(index=data['status'], columns=data['state']\n",
    "           ).apply(lambda r: r/r.sum() *100,\n",
    "                                axis=0)"
   ]
  },
  {
   "cell_type": "markdown",
   "metadata": {},
   "source": [
    "### GRÁFICOS\n",
    "---"
   ]
  },
  {
   "cell_type": "markdown",
   "metadata": {},
   "source": [
    "> Grafico estado pacientes en total"
   ]
  },
  {
   "cell_type": "code",
   "execution_count": 320,
   "metadata": {},
   "outputs": [
    {
     "data": {
      "image/png": "[encoded data removed]",
      "text/plain": [
       "<Figure size 640x480 with 1 Axes>"
      ]
     },
     "metadata": {},
     "output_type": "display_data"
    }
   ],
   "source": [
    "plot = data['status'].value_counts().plot(kind='bar',\n",
    "                                            title='Estado paciente')"
   ]
  },
  {
   "cell_type": "markdown",
   "metadata": {},
   "source": [
    "> Gráfico de tarta del estado de los pacientes"
   ]
  },
  {
   "cell_type": "code",
   "execution_count": 321,
   "metadata": {},
   "outputs": [
    {
     "data": {
      "image/png": "[encoded data removed]",
      "text/plain": [
       "<Figure size 600x600 with 1 Axes>"
      ]
     },
     "metadata": {},
     "output_type": "display_data"
    }
   ],
   "source": [
    "plot = data['status'].value_counts().plot(kind='pie', autopct='%.2f', \n",
    "                                            figsize=(6, 6),\n",
    "                                            title='Estado pacientes')"
   ]
  },
  {
   "cell_type": "markdown",
   "metadata": {},
   "source": [
    "  Conclusión:\n",
    "\n",
    "> Podemos verificar que el numero de pacientes con estado confirmado supera el doble a los casos de sospecha en toda la base de datos."
   ]
  },
  {
   "cell_type": "markdown",
   "metadata": {},
   "source": [
    "## GRÁFICOS CON BASE DE DATOS REDUCIDA PARA MÁS VISUALIZACIÓN\n",
    "---"
   ]
  },
  {
   "cell_type": "markdown",
   "metadata": {},
   "source": [
    "> Al ser una base de datos extensa, se ha considerado sólo coger datos de los estados de Nueva York, Ohio, Florida, California y Washington para mejor visualización.\n",
    "\n",
    "> Es una tabla de todos los años disponibles"
   ]
  },
  {
   "cell_type": "code",
   "execution_count": 322,
   "metadata": {},
   "outputs": [],
   "source": [
    "datastate = data.loc[(data[\"state\"] == 'Washington') | (data[\"state\"] == \"Ohio\") | (data[\"state\"] == \"Florida\")| (data[\"state\"] == \"New York\") | (data[\"state\"] == \"California\")]"
   ]
  },
  {
   "cell_type": "markdown",
   "metadata": {},
   "source": [
    "> Gráfico de barras de estado paciientes segun estado en porcetanje relativo"
   ]
  },
  {
   "cell_type": "code",
   "execution_count": 323,
   "metadata": {},
   "outputs": [
    {
     "data": {
      "image/png": "[encoded data removed]",
      "text/plain": [
       "<Figure size 640x480 with 1 Axes>"
      ]
     },
     "metadata": {},
     "output_type": "display_data"
    }
   ],
   "source": [
    "plot = pd.crosstab(index=datastate['status'],\n",
    "            columns=datastate['state']).apply(lambda r: r/r.sum() *100,\n",
    "                                              axis=1).plot(kind='bar')"
   ]
  },
  {
   "cell_type": "markdown",
   "metadata": {},
   "source": [
    "> Gráfico barras/stack del porcentaje relativo del estado de los pacientes"
   ]
  },
  {
   "cell_type": "code",
   "execution_count": 324,
   "metadata": {},
   "outputs": [
    {
     "data": {
      "image/png": "[encoded data removed]",
      "text/plain": [
       "<Figure size 640x480 with 1 Axes>"
      ]
     },
     "metadata": {},
     "output_type": "display_data"
    }
   ],
   "source": [
    "plot = pd.crosstab(index=datastate['status'],\n",
    "            columns=datastate['state']\n",
    "                  ).apply(lambda r: r/r.sum() *100,\n",
    "                          axis=0).plot(kind='bar', stacked=True)"
   ]
  },
  {
   "cell_type": "markdown",
   "metadata": {},
   "source": [
    "Conclusión:\n",
    "\n",
    "> Los estados de Florida y California són los que concentran la mayoria de casos siendo California la que más.\n",
    "\n",
    "> En canvio los estados de Nueva York o Ohio son los que menos casos de sospecha en relación a los confirmados tienen."
   ]
  }
 ],
 "metadata": {
  "kernelspec": {
   "display_name": "Python 3.10.4 ('bio')",
   "language": "python",
   "name": "python3"
  },
  "language_info": {
   "codemirror_mode": {
    "name": "ipython",
    "version": 3
   },
   "file_extension": ".py",
   "mimetype": "text/x-python",
   "name": "python",
   "nbconvert_exporter": "python",
   "pygments_lexer": "ipython3",
   "version": "3.10.4"
  },
  "orig_nbformat": 4,
  "vscode": {
   "interpreter": {
    "hash": "7b50a1639444e67889e4c7dd86c7efd956d3e4236344d4421c33c2a4936a7fb9"
   }
  }
 },
 "nbformat": 4,
 "nbformat_minor": 2
}

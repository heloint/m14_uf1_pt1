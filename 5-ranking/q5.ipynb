{
 "cells": [
  {
   "cell_type": "markdown",
   "metadata": {},
   "source": [
    "# Pregunta 5. Consulta que cree un ránking.\n",
    "\n",
    "1. Un ranking que ordene los valores de una columna y muestre los primeros por pantalla.\n",
    "\n",
    "2. Mostrar un gráfico.\n",
    "3. Resultado final, Jupyter Notebook o projecte Python con el codi y el gráfico."
   ]
  },
  {
   "cell_type": "markdown",
   "metadata": {},
   "source": [
    "### IMPORT\n",
    "---"
   ]
  },
  {
   "cell_type": "code",
   "execution_count": 4,
   "metadata": {},
   "outputs": [],
   "source": [
    "import numpy as np\n",
    "import pandas as pd"
   ]
  },
  {
   "cell_type": "markdown",
   "metadata": {},
   "source": [
    "### RANKING\n",
    "---\n",
    "- Ranking que ordene los valores de una columna y muestre los primeros en pantalla.\n",
    "\n",
    "Tenemos un ranking del numero de emfermos por caso, mostarndo los 10 más elevados."
   ]
  },
  {
   "cell_type": "code",
   "execution_count": 5,
   "metadata": {},
   "outputs": [
    {
     "data": {
      "text/html": [
       "<div>\n",
       "<style scoped>\n",
       "    .dataframe tbody tr th:only-of-type {\n",
       "        vertical-align: middle;\n",
       "    }\n",
       "\n",
       "    .dataframe tbody tr th {\n",
       "        vertical-align: top;\n",
       "    }\n",
       "\n",
       "    .dataframe thead th {\n",
       "        text-align: right;\n",
       "    }\n",
       "</style>\n",
       "<table border=\"1\" class=\"dataframe\">\n",
       "  <thead>\n",
       "    <tr style=\"text-align: right;\">\n",
       "      <th></th>\n",
       "      <th>year</th>\n",
       "      <th>month</th>\n",
       "      <th>state</th>\n",
       "      <th>location</th>\n",
       "      <th>species</th>\n",
       "      <th>status</th>\n",
       "      <th>illnesses</th>\n",
       "      <th>hospitalizations</th>\n",
       "      <th>fatalities</th>\n",
       "    </tr>\n",
       "    <tr>\n",
       "      <th>case_id</th>\n",
       "      <th></th>\n",
       "      <th></th>\n",
       "      <th></th>\n",
       "      <th></th>\n",
       "      <th></th>\n",
       "      <th></th>\n",
       "      <th></th>\n",
       "      <th></th>\n",
       "      <th></th>\n",
       "    </tr>\n",
       "  </thead>\n",
       "  <tbody>\n",
       "    <tr>\n",
       "      <th>9490</th>\n",
       "      <td>2006</td>\n",
       "      <td>May</td>\n",
       "      <td>California</td>\n",
       "      <td>Prison/Jail</td>\n",
       "      <td>Campylobacter jejuni</td>\n",
       "      <td>Confirmed</td>\n",
       "      <td>1644</td>\n",
       "      <td>7.0</td>\n",
       "      <td>0.0</td>\n",
       "    </tr>\n",
       "    <tr>\n",
       "      <th>11533</th>\n",
       "      <td>2008</td>\n",
       "      <td>April</td>\n",
       "      <td>Multistate</td>\n",
       "      <td>NaN</td>\n",
       "      <td>Salmonella enterica</td>\n",
       "      <td>Confirmed</td>\n",
       "      <td>1500</td>\n",
       "      <td>308.0</td>\n",
       "      <td>2.0</td>\n",
       "    </tr>\n",
       "    <tr>\n",
       "      <th>9385</th>\n",
       "      <td>2006</td>\n",
       "      <td>April</td>\n",
       "      <td>Colorado</td>\n",
       "      <td>NaN</td>\n",
       "      <td>Norovirus genogroup I</td>\n",
       "      <td>Confirmed</td>\n",
       "      <td>1200</td>\n",
       "      <td>1.0</td>\n",
       "      <td>0.0</td>\n",
       "    </tr>\n",
       "    <tr>\n",
       "      <th>6182</th>\n",
       "      <td>2003</td>\n",
       "      <td>January</td>\n",
       "      <td>Texas</td>\n",
       "      <td>Unknown</td>\n",
       "      <td>Shigella sonnei</td>\n",
       "      <td>Confirmed</td>\n",
       "      <td>964</td>\n",
       "      <td>NaN</td>\n",
       "      <td>NaN</td>\n",
       "    </tr>\n",
       "    <tr>\n",
       "      <th>5762</th>\n",
       "      <td>2002</td>\n",
       "      <td>September</td>\n",
       "      <td>Illinois</td>\n",
       "      <td>Prison/Jail</td>\n",
       "      <td>Clostridium perfringens</td>\n",
       "      <td>Confirmed</td>\n",
       "      <td>950</td>\n",
       "      <td>1.0</td>\n",
       "      <td>0.0</td>\n",
       "    </tr>\n",
       "    <tr>\n",
       "      <th>6751</th>\n",
       "      <td>2003</td>\n",
       "      <td>August</td>\n",
       "      <td>Multistate</td>\n",
       "      <td>Restaurant</td>\n",
       "      <td>Hepatitis A</td>\n",
       "      <td>Confirmed</td>\n",
       "      <td>935</td>\n",
       "      <td>NaN</td>\n",
       "      <td>NaN</td>\n",
       "    </tr>\n",
       "    <tr>\n",
       "      <th>568</th>\n",
       "      <td>1998</td>\n",
       "      <td>June</td>\n",
       "      <td>Illinois</td>\n",
       "      <td>Catering Service</td>\n",
       "      <td>Escherichia coli, Enterotoxigenic</td>\n",
       "      <td>Confirmed</td>\n",
       "      <td>916</td>\n",
       "      <td>7.0</td>\n",
       "      <td>0.0</td>\n",
       "    </tr>\n",
       "    <tr>\n",
       "      <th>17055</th>\n",
       "      <td>2015</td>\n",
       "      <td>July</td>\n",
       "      <td>Multistate</td>\n",
       "      <td>NaN</td>\n",
       "      <td>Salmonella enterica</td>\n",
       "      <td>Confirmed</td>\n",
       "      <td>907</td>\n",
       "      <td>204.0</td>\n",
       "      <td>6.0</td>\n",
       "    </tr>\n",
       "    <tr>\n",
       "      <th>4275</th>\n",
       "      <td>2001</td>\n",
       "      <td>May</td>\n",
       "      <td>New York</td>\n",
       "      <td>Restaurant</td>\n",
       "      <td>Shigella flexneri</td>\n",
       "      <td>Confirmed</td>\n",
       "      <td>886</td>\n",
       "      <td>22.0</td>\n",
       "      <td>NaN</td>\n",
       "    </tr>\n",
       "    <tr>\n",
       "      <th>6980</th>\n",
       "      <td>2003</td>\n",
       "      <td>November</td>\n",
       "      <td>Louisiana</td>\n",
       "      <td>Prison/Jail</td>\n",
       "      <td>Clostridium perfringens</td>\n",
       "      <td>Confirmed</td>\n",
       "      <td>880</td>\n",
       "      <td>35.0</td>\n",
       "      <td>0.0</td>\n",
       "    </tr>\n",
       "  </tbody>\n",
       "</table>\n",
       "</div>"
      ],
      "text/plain": [
       "         year      month       state          location  \\\n",
       "case_id                                                  \n",
       "9490     2006        May  California       Prison/Jail   \n",
       "11533    2008      April  Multistate               NaN   \n",
       "9385     2006      April    Colorado               NaN   \n",
       "6182     2003    January       Texas           Unknown   \n",
       "5762     2002  September    Illinois       Prison/Jail   \n",
       "6751     2003     August  Multistate        Restaurant   \n",
       "568      1998       June    Illinois  Catering Service   \n",
       "17055    2015       July  Multistate               NaN   \n",
       "4275     2001        May    New York        Restaurant   \n",
       "6980     2003   November   Louisiana       Prison/Jail   \n",
       "\n",
       "                                   species     status  illnesses  \\\n",
       "case_id                                                            \n",
       "9490                  Campylobacter jejuni  Confirmed       1644   \n",
       "11533                  Salmonella enterica  Confirmed       1500   \n",
       "9385                 Norovirus genogroup I  Confirmed       1200   \n",
       "6182                       Shigella sonnei  Confirmed        964   \n",
       "5762               Clostridium perfringens  Confirmed        950   \n",
       "6751                           Hepatitis A  Confirmed        935   \n",
       "568      Escherichia coli, Enterotoxigenic  Confirmed        916   \n",
       "17055                  Salmonella enterica  Confirmed        907   \n",
       "4275                     Shigella flexneri  Confirmed        886   \n",
       "6980               Clostridium perfringens  Confirmed        880   \n",
       "\n",
       "         hospitalizations  fatalities  \n",
       "case_id                                \n",
       "9490                  7.0         0.0  \n",
       "11533               308.0         2.0  \n",
       "9385                  1.0         0.0  \n",
       "6182                  NaN         NaN  \n",
       "5762                  1.0         0.0  \n",
       "6751                  NaN         NaN  \n",
       "568                   7.0         0.0  \n",
       "17055               204.0         6.0  \n",
       "4275                 22.0         NaN  \n",
       "6980                 35.0         0.0  "
      ]
     },
     "execution_count": 5,
     "metadata": {},
     "output_type": "execute_result"
    }
   ],
   "source": [
    "data: pd.DataFrame = pd.read_csv(\"../data/cleaned_csv/3-question_results/cases.csv\", index_col=\"case_id\")\n",
    "df = data.sort_values(by= [\"illnesses\"], axis=0, ascending=False)\n",
    "\n",
    "ranking  = df.head(10)\n",
    "ranking"
   ]
  },
  {
   "cell_type": "markdown",
   "metadata": {},
   "source": [
    "### GRÁFICO\n",
    "---"
   ]
  },
  {
   "cell_type": "code",
   "execution_count": 6,
   "metadata": {},
   "outputs": [
    {
     "data": {
      "text/plain": [
       "<AxesSubplot:title={'center':'Top 10 most illness people by case_id'}, xlabel='state'>"
      ]
     },
     "execution_count": 6,
     "metadata": {},
     "output_type": "execute_result"
    },
    {
     "data": {
      "image/png": "[encoded data removed]",
      "text/plain": [
       "<Figure size 640x480 with 1 Axes>"
      ]
     },
     "metadata": {},
     "output_type": "display_data"
    }
   ],
   "source": [
    "# ranking.index.name = 'location'\n",
    "ranking.set_index('state').loc[:,\"illnesses\"].plot(kind=\"bar\", title=\"Top 10 most illness people by case_id\")\n"
   ]
  },
  {
   "cell_type": "markdown",
   "metadata": {},
   "source": [
    "Conclusión\n",
    "> El estado de California es el que más casos ha reportado de intoxicación alimentaria de un mismo origen."
   ]
  }
 ],
 "metadata": {
  "kernelspec": {
   "display_name": "Python 3.10.4 ('bio')",
   "language": "python",
   "name": "python3"
  },
  "language_info": {
   "codemirror_mode": {
    "name": "ipython",
    "version": 3
   },
   "file_extension": ".py",
   "mimetype": "text/x-python",
   "name": "python",
   "nbconvert_exporter": "python",
   "pygments_lexer": "ipython3",
   "version": "3.10.4"
  },
  "orig_nbformat": 4,
  "vscode": {
   "interpreter": {
    "hash": "7b50a1639444e67889e4c7dd86c7efd956d3e4236344d4421c33c2a4936a7fb9"
   }
  }
 },
 "nbformat": 4,
 "nbformat_minor": 2
}

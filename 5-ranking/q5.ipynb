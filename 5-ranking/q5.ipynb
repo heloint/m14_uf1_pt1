{
 "cells": [
  {
   "cell_type": "markdown",
   "metadata": {},
   "source": [
    "# Pregunta 5. Consulta que cree un ránking.\n",
    "\n",
    "1. Un ranking que ordene los valores de una columna y muestre los primeros por pantalla.\n",
    "\n",
    "2. Mostrar un gráfico.\n",
    "3. Resultado final, Jupyter Notebook o projecte Python con el codi y el gráfico."
   ]
  },
  {
   "cell_type": "markdown",
   "metadata": {},
   "source": [
    "### Import"
   ]
  },
  {
   "cell_type": "code",
   "execution_count": 56,
   "metadata": {},
   "outputs": [],
   "source": [
    "import numpy as np\n",
    "import pandas as pd"
   ]
  },
  {
   "cell_type": "markdown",
   "metadata": {},
   "source": [
    "### Ranking\n",
    "- Ranking que ordene los valores de una columna y muestre los primeros en pantalla.\n",
    "\n",
    "Tenemos un ranking de las enfermedades."
   ]
  },
  {
   "cell_type": "code",
   "execution_count": 57,
   "metadata": {},
   "outputs": [],
   "source": [
    "data: pd.DataFrame = pd.read_csv('/home/ani/m14_uf1_pt1/data/cleaned_csv/cases.csv', index_col=\"case_id\")\n",
    "df = data.sort_values(by= [\"illnesses\"], axis=0, ascending=False)\n",
    "\n",
    "ranking  = df.head(10)"
   ]
  },
  {
   "cell_type": "markdown",
   "metadata": {},
   "source": [
    "### Gráfico"
   ]
  },
  {
   "cell_type": "code",
   "execution_count": 60,
   "metadata": {},
   "outputs": [
    {
     "data": {
      "text/plain": [
       "<AxesSubplot:title={'center':'Top 10 most illness people by case_id'}, xlabel='state'>"
      ]
     },
     "execution_count": 60,
     "metadata": {},
     "output_type": "execute_result"
    },
    {
     "data": {
      "image/png": "[encoded data removed]",
      "text/plain": [
       "<Figure size 432x288 with 1 Axes>"
      ]
     },
     "metadata": {
      "needs_background": "light"
     },
     "output_type": "display_data"
    }
   ],
   "source": [
    "# ranking.index.name = 'location'\n",
    "ranking.set_index('state').loc[:,\"illnesses\"].plot(kind=\"bar\", title=\"Top 10 most illness people by case_id\")\n"
   ]
  }
 ],
 "metadata": {
  "kernelspec": {
   "display_name": "Python 3.10.6 ('bio')",
   "language": "python",
   "name": "python3"
  },
  "language_info": {
   "codemirror_mode": {
    "name": "ipython",
    "version": 3
   },
   "file_extension": ".py",
   "mimetype": "text/x-python",
   "name": "python",
   "nbconvert_exporter": "python",
   "pygments_lexer": "ipython3",
   "version": "3.10.6"
  },
  "orig_nbformat": 4,
  "vscode": {
   "interpreter": {
    "hash": "2ff2e000f4759d59570a740638043c41ec2f4aaf7d00a95783a66185c482e86d"
   }
  }
 },
 "nbformat": 4,
 "nbformat_minor": 2
}
